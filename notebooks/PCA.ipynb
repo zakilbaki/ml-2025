{
  "nbformat": 4,
  "nbformat_minor": 0,
  "metadata": {
    "colab": {
      "provenance": [],
      "authorship_tag": "ABX9TyOCGHPYtAPvJSFND/n8cPQo",
      "include_colab_link": true
    },
    "kernelspec": {
      "name": "python3",
      "display_name": "Python 3"
    },
    "language_info": {
      "name": "python"
    }
  },
  "cells": [
    {
      "cell_type": "markdown",
      "metadata": {
        "id": "view-in-github",
        "colab_type": "text"
      },
      "source": [
        "<a href=\"https://colab.research.google.com/github/zakilbaki/ml-2025/blob/main/notebooks/PCA.ipynb\" target=\"_parent\"><img src=\"https://colab.research.google.com/assets/colab-badge.svg\" alt=\"Open In Colab\"/></a>"
      ]
    },
    {
      "cell_type": "code",
      "execution_count": null,
      "metadata": {
        "id": "RrksFFni2Qkl"
      },
      "outputs": [],
      "source": [
        "import sys\n",
        "assert sys.version_info >= (3, 7)"
      ]
    },
    {
      "cell_type": "code",
      "source": [
        "from packaging import version\n",
        "import sklearn\n",
        "\n",
        "assert version.parse(sklearn.__version__) >= version.parse(\"1.0.1\")"
      ],
      "metadata": {
        "id": "CcZx_2y12oAZ"
      },
      "execution_count": null,
      "outputs": []
    },
    {
      "cell_type": "code",
      "source": [
        "import matplotlib.pyplot as plt\n",
        "\n",
        "plt.rc('font', size=14)\n",
        "plt.rc('axes', labelsize=14, titlesize=14)\n",
        "plt.rc('legend', fontsize=14)\n",
        "plt.rc('xtick', labelsize=10)\n",
        "plt.rc('ytick', labelsize=10)"
      ],
      "metadata": {
        "id": "UlxWP5i52yqA"
      },
      "execution_count": null,
      "outputs": []
    },
    {
      "cell_type": "markdown",
      "source": [
        "# PCA = principle component analysis\n",
        "# It try's to reduce the dataset size wile preserving the maximum variance"
      ],
      "metadata": {
        "id": "bWFYKVaF3FXI"
      }
    },
    {
      "cell_type": "code",
      "source": [
        "import numpy as np\n",
        "from scipy.spatial.transform import Rotation\n",
        "\n",
        "m = 60\n",
        "X = np.zeros((m, 3))  # initialize 3D dataset\n",
        "np.random.seed(42)\n",
        "angles = (np.random.rand(m) ** 3 + 0.5) * 2 * np.pi  # uneven distribution\n",
        "X[:, 0], X[:, 1] = np.cos(angles), np.sin(angles) * 0.5  # oval\n",
        "X += 0.28 * np.random.randn(m, 3)  # add more noise\n",
        "X = Rotation.from_rotvec([np.pi / 29, -np.pi / 20, np.pi / 4]).apply(X)\n",
        "X += [0.2, 0, 0.2]  # shift a bit"
      ],
      "metadata": {
        "id": "QxDADMWj29Yk"
      },
      "execution_count": null,
      "outputs": []
    },
    {
      "cell_type": "code",
      "source": [
        "# extra code – this cell generates and saves Figure 8–2\n",
        "\n",
        "import matplotlib.pyplot as plt\n",
        "from sklearn.decomposition import PCA\n",
        "\n",
        "pca = PCA(n_components=2)\n",
        "X2D = pca.fit_transform(X)  # dataset reduced to 2D\n",
        "X3D_inv = pca.inverse_transform(X2D)  # 3D position of the projected samples\n",
        "X_centered = X - X.mean(axis=0)\n",
        "U, s, Vt = np.linalg.svd(X_centered)\n",
        "\n",
        "axes = [-1.4, 1.4, -1.4, 1.4, -1.1, 1.1]\n",
        "x1, x2 = np.meshgrid(np.linspace(axes[0], axes[1], 10),\n",
        "                     np.linspace(axes[2], axes[3], 10))\n",
        "w1, w2 = np.linalg.solve(Vt[:2, :2], Vt[:2, 2])  # projection plane coefs\n",
        "z = w1 * (x1 - pca.mean_[0]) + w2 * (x2 - pca.mean_[1]) - pca.mean_[2]  # plane\n",
        "X3D_above = X[X[:, 2] >= X3D_inv[:, 2]]  # samples above plane\n",
        "X3D_below = X[X[:, 2] < X3D_inv[:, 2]]  # samples below plane\n",
        "\n",
        "fig = plt.figure(figsize=(9, 9))\n",
        "ax = fig.add_subplot(111, projection=\"3d\")\n",
        "\n",
        "# plot samples and projection lines below plane first\n",
        "ax.plot(X3D_below[:, 0], X3D_below[:, 1], X3D_below[:, 2], \"ro\", alpha=0.3)\n",
        "for i in range(m):\n",
        "    if X[i, 2] < X3D_inv[i, 2]:\n",
        "        ax.plot([X[i][0], X3D_inv[i][0]],\n",
        "                [X[i][1], X3D_inv[i][1]],\n",
        "                [X[i][2], X3D_inv[i][2]], \":\", color=\"#F88\")\n",
        "\n",
        "ax.plot_surface(x1, x2, z, alpha=0.1, color=\"b\")  # projection plane\n",
        "ax.plot(X3D_inv[:, 0], X3D_inv[:, 1], X3D_inv[:, 2], \"b+\")  # projected samples\n",
        "ax.plot(X3D_inv[:, 0], X3D_inv[:, 1], X3D_inv[:, 2], \"b.\")\n",
        "\n",
        "# now plot projection lines and samples above plane\n",
        "for i in range(m):\n",
        "    if X[i, 2] >= X3D_inv[i, 2]:\n",
        "        ax.plot([X[i][0], X3D_inv[i][0]],\n",
        "                [X[i][1], X3D_inv[i][1]],\n",
        "                [X[i][2], X3D_inv[i][2]], \"r--\")\n",
        "\n",
        "ax.plot(X3D_above[:, 0], X3D_above[:, 1], X3D_above[:, 2], \"ro\")\n",
        "\n",
        "def set_xyz_axes(ax, axes):\n",
        "    ax.xaxis.set_rotate_label(False)\n",
        "    ax.yaxis.set_rotate_label(False)\n",
        "    ax.zaxis.set_rotate_label(False)\n",
        "    ax.set_xlabel(\"$x_1$\", labelpad=8, rotation=0)\n",
        "    ax.set_ylabel(\"$x_2$\", labelpad=8, rotation=0)\n",
        "    ax.set_zlabel(\"$x_3$\", labelpad=8, rotation=0)\n",
        "    ax.set_xlim(axes[0:2])\n",
        "    ax.set_ylim(axes[2:4])\n",
        "    ax.set_zlim(axes[4:6])\n",
        "\n",
        "set_xyz_axes(ax, axes)\n",
        "ax.set_zticks([-1, -0.5, 0, 0.5, 1])\n",
        "\n",
        "plt.show()"
      ],
      "metadata": {
        "id": "wvzkRq7_5NPy"
      },
      "execution_count": null,
      "outputs": []
    },
    {
      "cell_type": "markdown",
      "source": [
        "This figure illustrates how PCA projects 3D data points (red) onto an optimal 2D plane (blue) while preserving as much variance as possible.  \n",
        "The red dashed lines connect each original point to its projection (blue), representing the reconstruction error.\n"
      ],
      "metadata": {
        "id": "6HRRn8lZ8odI"
      }
    },
    {
      "cell_type": "code",
      "source": [
        "# extra code – this cell generates and saves Figure 8–3\n",
        "\n",
        "fig = plt.figure()\n",
        "ax = fig.add_subplot(1, 1, 1, aspect='equal')\n",
        "ax.plot(X2D[:, 0], X2D[:, 1], \"b+\")\n",
        "ax.plot(X2D[:, 0], X2D[:, 1], \"b.\")\n",
        "ax.plot([0], [0], \"bo\")\n",
        "ax.arrow(0, 0, 1, 0, head_width=0.05, length_includes_head=True,\n",
        "         head_length=0.1, fc='b', ec='b', linewidth=4)\n",
        "ax.arrow(0, 0, 0, 1, head_width=0.05, length_includes_head=True,\n",
        "         head_length=0.1, fc='b', ec='b', linewidth=1)\n",
        "ax.set_xlabel(\"$z_1$\")\n",
        "ax.set_yticks([-0.5, 0, 0.5, 1])\n",
        "ax.set_ylabel(\"$z_2$\", rotation=0)\n",
        "ax.set_axisbelow(True)\n",
        "ax.grid(True)\n"
      ],
      "metadata": {
        "id": "Bcjy4l1V8rR2"
      },
      "execution_count": null,
      "outputs": []
    },
    {
      "cell_type": "markdown",
      "source": [
        "this plot shows that the new coordinates in the new hyperplan defined by the two arrows"
      ],
      "metadata": {
        "id": "kv5lfxzP9AxF"
      }
    },
    {
      "cell_type": "code",
      "source": [
        "from sklearn.datasets import make_swiss_roll\n",
        "\n",
        "X_swiss, t = make_swiss_roll(n_samples=1000, noise=0.2, random_state=42)"
      ],
      "metadata": {
        "id": "lXtO1N2e9QoC"
      },
      "execution_count": null,
      "outputs": []
    },
    {
      "cell_type": "code",
      "source": [
        "# extra code – this cell generates and saves Figure 8–4\n",
        "\n",
        "from matplotlib.colors import ListedColormap\n",
        "\n",
        "darker_hot = ListedColormap(plt.cm.hot(np.linspace(0, 0.8, 256)))\n",
        "\n",
        "axes = [-11.5, 14, -2, 23, -12, 15]\n",
        "\n",
        "fig = plt.figure(figsize=(6, 5))\n",
        "ax = fig.add_subplot(111, projection='3d')\n",
        "\n",
        "ax.scatter(X_swiss[:, 0], X_swiss[:, 1], X_swiss[:, 2], c=t, cmap=darker_hot)\n",
        "ax.view_init(10, -70)\n",
        "set_xyz_axes(ax, axes)\n",
        "plt.show()"
      ],
      "metadata": {
        "id": "gSAgjy6S9Wp4"
      },
      "execution_count": null,
      "outputs": []
    },
    {
      "cell_type": "code",
      "source": [
        "# extra code – this cell generates and saves plots for Figure 8–5\n",
        "\n",
        "plt.figure(figsize=(10, 4))\n",
        "\n",
        "plt.subplot(121)\n",
        "plt.scatter(X_swiss[:, 0], X_swiss[:, 1], c=t, cmap=darker_hot)\n",
        "plt.axis(axes[:4])\n",
        "plt.xlabel(\"$x_1$\")\n",
        "plt.ylabel(\"$x_2$\", labelpad=10, rotation=0)\n",
        "plt.grid(True)\n",
        "\n",
        "plt.subplot(122)\n",
        "plt.scatter(t, X_swiss[:, 1], c=t, cmap=darker_hot)\n",
        "plt.axis([4, 14.8, axes[2], axes[3]])\n",
        "plt.xlabel(\"$z_1$\")\n",
        "plt.grid(True)\n",
        "\n",
        "plt.show()"
      ],
      "metadata": {
        "id": "VjHnFeJA9hlO"
      },
      "execution_count": null,
      "outputs": []
    },
    {
      "cell_type": "markdown",
      "source": [
        "pca keeps only the direction that explain most of the variance"
      ],
      "metadata": {
        "id": "noPQCrgpCUDf"
      }
    },
    {
      "cell_type": "code",
      "source": [
        "# extra code – this cell generates and saves plots for Figure 8–6\n",
        "\n",
        "axes = [-11.5, 14, -2, 23, -12, 15]\n",
        "x2s = np.linspace(axes[2], axes[3], 10)\n",
        "x3s = np.linspace(axes[4], axes[5], 10)\n",
        "x2, x3 = np.meshgrid(x2s, x3s)\n",
        "\n",
        "positive_class = X_swiss[:, 0] > 5\n",
        "X_pos = X_swiss[positive_class]\n",
        "X_neg = X_swiss[~positive_class]\n",
        "\n",
        "fig = plt.figure(figsize=(6, 5))\n",
        "ax = plt.subplot(1, 1, 1, projection='3d')\n",
        "ax.view_init(10, -70)\n",
        "ax.plot(X_neg[:, 0], X_neg[:, 1], X_neg[:, 2], \"y^\")\n",
        "ax.plot_wireframe(5, x2, x3, alpha=0.5)\n",
        "ax.plot(X_pos[:, 0], X_pos[:, 1], X_pos[:, 2], \"gs\")\n",
        "set_xyz_axes(ax, axes)\n",
        "plt.show()\n",
        "\n",
        "fig = plt.figure(figsize=(5, 4))\n",
        "ax = plt.subplot(1, 1, 1)\n",
        "ax.plot(t[positive_class], X_swiss[positive_class, 1], \"gs\")\n",
        "ax.plot(t[~positive_class], X_swiss[~positive_class, 1], \"y^\")\n",
        "ax.axis([4, 15, axes[2], axes[3]])\n",
        "ax.set_xlabel(\"$z_1$\")\n",
        "ax.set_ylabel(\"$z_2$\", rotation=0, labelpad=8)\n",
        "ax.grid(True)\n",
        "plt.show()\n",
        "\n",
        "positive_class = 2 * (t[:] - 4) > X_swiss[:, 1]\n",
        "X_pos = X_swiss[positive_class]\n",
        "X_neg = X_swiss[~positive_class]\n",
        "\n",
        "fig = plt.figure(figsize=(6, 5))\n",
        "ax = plt.subplot(1, 1, 1, projection='3d')\n",
        "ax.view_init(10, -70)\n",
        "ax.plot(X_neg[:, 0], X_neg[:, 1], X_neg[:, 2], \"y^\")\n",
        "ax.plot(X_pos[:, 0], X_pos[:, 1], X_pos[:, 2], \"gs\")\n",
        "ax.xaxis.set_rotate_label(False)\n",
        "ax.yaxis.set_rotate_label(False)\n",
        "ax.zaxis.set_rotate_label(False)\n",
        "ax.set_xlabel(\"$x_1$\", rotation=0)\n",
        "ax.set_ylabel(\"$x_2$\", rotation=0)\n",
        "ax.set_zlabel(\"$x_3$\", rotation=0)\n",
        "ax.set_xlim(axes[0:2])\n",
        "ax.set_ylim(axes[2:4])\n",
        "ax.set_zlim(axes[4:6])\n",
        "plt.show()\n",
        "\n",
        "fig = plt.figure(figsize=(5, 4))\n",
        "ax = plt.subplot(1, 1, 1)\n",
        "ax.plot(t[positive_class], X_swiss[positive_class, 1], \"gs\")\n",
        "ax.plot(t[~positive_class], X_swiss[~positive_class, 1], \"y^\")\n",
        "ax.plot([4, 15], [0, 22], \"b-\", linewidth=2)\n",
        "ax.axis([4, 15, axes[2], axes[3]])\n",
        "ax.set_xlabel(\"$z_1$\")\n",
        "ax.set_ylabel(\"$z_2$\", rotation=0, labelpad=8)\n",
        "ax.grid(True)\n",
        "plt.show()"
      ],
      "metadata": {
        "collapsed": true,
        "id": "gbgQME70CjKT"
      },
      "execution_count": null,
      "outputs": []
    },
    {
      "cell_type": "markdown",
      "source": [
        "  PCA is good only on linear dataset cause it only do linear transformation"
      ],
      "metadata": {
        "id": "A52CrwqMF8Tq"
      }
    },
    {
      "cell_type": "code",
      "source": [
        "# extra code – this cell generates and saves Figure 8–7\n",
        "\n",
        "angle = np.pi / 5\n",
        "stretch = 5\n",
        "m = 200\n",
        "\n",
        "np.random.seed(3)\n",
        "X_line = np.random.randn(m, 2) / 10\n",
        "X_line = X_line @ np.array([[stretch, 0], [0, 1]])  # stretch\n",
        "X_line = X_line @ [[np.cos(angle), np.sin(angle)],\n",
        "                   [np.sin(angle), np.cos(angle)]]  # rotate\n",
        "\n",
        "u1 = np.array([np.cos(angle), np.sin(angle)])\n",
        "u2 = np.array([np.cos(angle - 2 * np.pi / 6), np.sin(angle - 2 * np.pi / 6)])\n",
        "u3 = np.array([np.cos(angle - np.pi / 2), np.sin(angle - np.pi / 2)])\n",
        "\n",
        "X_proj1 = X_line @ u1.reshape(-1, 1)\n",
        "X_proj2 = X_line @ u2.reshape(-1, 1)\n",
        "X_proj3 = X_line @ u3.reshape(-1, 1)\n",
        "\n",
        "plt.figure(figsize=(8, 4))\n",
        "plt.subplot2grid((3, 2), (0, 0), rowspan=3)\n",
        "plt.plot([-1.4, 1.4], [-1.4 * u1[1] / u1[0], 1.4 * u1[1] / u1[0]], \"k-\",\n",
        "         linewidth=2)\n",
        "plt.plot([-1.4, 1.4], [-1.4 * u2[1] / u2[0], 1.4 * u2[1] / u2[0]], \"k--\",\n",
        "         linewidth=2)\n",
        "plt.plot([-1.4, 1.4], [-1.4 * u3[1] / u3[0], 1.4 * u3[1] / u3[0]], \"k:\",\n",
        "         linewidth=2)\n",
        "plt.plot(X_line[:, 0], X_line[:, 1], \"ro\", alpha=0.5)\n",
        "plt.arrow(0, 0, u1[0], u1[1], head_width=0.1, linewidth=4, alpha=0.9,\n",
        "          length_includes_head=True, head_length=0.1, fc=\"b\", ec=\"b\", zorder=10)\n",
        "plt.arrow(0, 0, u3[0], u3[1], head_width=0.1, linewidth=1, alpha=0.9,\n",
        "          length_includes_head=True, head_length=0.1, fc=\"b\", ec=\"b\", zorder=10)\n",
        "plt.text(u1[0] + 0.1, u1[1] - 0.05, r\"$\\mathbf{c_1}$\", color=\"blue\")\n",
        "plt.text(u3[0] + 0.1, u3[1], r\"$\\mathbf{c_2}$\", color=\"blue\")\n",
        "plt.xlabel(\"$x_1$\")\n",
        "plt.ylabel(\"$x_2$\", rotation=0)\n",
        "plt.axis([-1.4, 1.4, -1.4, 1.4])\n",
        "plt.grid()\n",
        "\n",
        "plt.subplot2grid((3, 2), (0, 1))\n",
        "plt.plot([-2, 2], [0, 0], \"k-\", linewidth=2)\n",
        "plt.plot(X_proj1[:, 0], np.zeros(m), \"ro\", alpha=0.3)\n",
        "plt.gca().get_yaxis().set_ticks([])\n",
        "plt.gca().get_xaxis().set_ticklabels([])\n",
        "plt.axis([-2, 2, -1, 1])\n",
        "plt.grid()\n",
        "\n",
        "plt.subplot2grid((3, 2), (1, 1))\n",
        "plt.plot([-2, 2], [0, 0], \"k--\", linewidth=2)\n",
        "plt.plot(X_proj2[:, 0], np.zeros(m), \"ro\", alpha=0.3)\n",
        "plt.gca().get_yaxis().set_ticks([])\n",
        "plt.gca().get_xaxis().set_ticklabels([])\n",
        "plt.axis([-2, 2, -1, 1])\n",
        "plt.grid()\n",
        "\n",
        "plt.subplot2grid((3, 2), (2, 1))\n",
        "plt.plot([-2, 2], [0, 0], \"k:\", linewidth=2)\n",
        "plt.plot(X_proj3[:, 0], np.zeros(m), \"ro\", alpha=0.3)\n",
        "plt.gca().get_yaxis().set_ticks([])\n",
        "plt.axis([-2, 2, -1, 1])\n",
        "plt.xlabel(\"$z_1$\")\n",
        "plt.grid()\n",
        "\n",
        "plt.show()"
      ],
      "metadata": {
        "id": "2natBz4KEBqf"
      },
      "execution_count": null,
      "outputs": []
    },
    {
      "cell_type": "markdown",
      "source": [
        "PCA ROTATE THE DATA TO ALIGN IT WITH THA FIRST  COMPONENET DIRECTION"
      ],
      "metadata": {
        "id": "aN2EfBZgGy_E"
      }
    },
    {
      "cell_type": "markdown",
      "source": [
        "# PRINCIPAL COMPONENENT"
      ],
      "metadata": {
        "id": "ukvpbWIbHA6w"
      }
    },
    {
      "cell_type": "code",
      "source": [
        "import numpy as np\n",
        "\n",
        "# X = [...]  # the small 3D dataset was created earlier in this notebook\n",
        "X_centered = X - X.mean(axis=0)\n",
        "U, s, Vt = np.linalg.svd(X_centered)\n",
        "c1 = Vt[0]\n",
        "c2 = Vt[1]"
      ],
      "metadata": {
        "id": "vfs0XoneHD2a"
      },
      "execution_count": null,
      "outputs": []
    },
    {
      "cell_type": "markdown",
      "source": [
        "PCA finds the eigenvectors of the data’s covariance matrix — these define the principal components.  \n",
        "The corresponding eigenvalues indicate how much variance each principal component explains.\n"
      ],
      "metadata": {
        "id": "lqN0_SZEISKS"
      }
    },
    {
      "cell_type": "markdown",
      "source": [
        "Note: in principle, the SVD factorization algorithm returns three matrices, **U**, **Σ** and **V**, such that **X** = **UΣV**<sup>⊺</sup>, where **U** is an _m_ × _m_ matrix, **Σ** is an _m_ × _n_ matrix, and **V** is an _n_ × _n_ matrix. But the `svd()` function returns **U**, **s** and **V**<sup>⊺</sup> instead. **s** is the vector containing all the values on the main diagonal of the top _n_ rows of **Σ**. Since **Σ** is full of zeros elsewhere, your can easily reconstruct it from **s**, like this:"
      ],
      "metadata": {
        "id": "S96BwYQgqrzZ"
      }
    },
    {
      "cell_type": "code",
      "source": [
        "m, n = X.shape\n",
        "Σ = np.zeros_like(X_centered)\n",
        "Σ[:n, :n] = np.diag(s)\n",
        "assert np.allclose(X_centered, U @ Σ @ Vt)"
      ],
      "metadata": {
        "id": "Ryn5hZgLIREp"
      },
      "execution_count": null,
      "outputs": []
    },
    {
      "cell_type": "code",
      "source": [
        "# Projecting down to d dimension"
      ],
      "metadata": {
        "id": "L3sxcKv_qfwi"
      },
      "execution_count": null,
      "outputs": []
    },
    {
      "cell_type": "code",
      "source": [
        "W2 = Vt[:2].T\n",
        "X2D = X_centered @ W2"
      ],
      "metadata": {
        "id": "Oloi0FMbq-me"
      },
      "execution_count": null,
      "outputs": []
    },
    {
      "cell_type": "markdown",
      "source": [
        "# Using sickit-learn"
      ],
      "metadata": {
        "id": "6OU6bwNirY_T"
      }
    },
    {
      "cell_type": "code",
      "source": [
        "from sklearn.decomposition import PCA\n",
        "\n",
        "pca = PCA(n_components=2)\n",
        "X2D = pca.fit_transform(X)"
      ],
      "metadata": {
        "id": "pkXC3sFWrc22"
      },
      "execution_count": null,
      "outputs": []
    },
    {
      "cell_type": "code",
      "source": [
        "pca.explained_variance_ratio_"
      ],
      "metadata": {
        "id": "MofUHTmMrikS"
      },
      "execution_count": null,
      "outputs": []
    },
    {
      "cell_type": "markdown",
      "source": [
        "The first dimension explains about 76% of the variance, while the second explains about 15%."
      ],
      "metadata": {
        "id": "HLi86etJryR_"
      }
    },
    {
      "cell_type": "code",
      "source": [
        "#this code shows how much variance we lost\n",
        "1 - pca.explained_variance_ratio_.sum()  # extra code"
      ],
      "metadata": {
        "id": "Hw5kgtqPr1qL"
      },
      "execution_count": null,
      "outputs": []
    },
    {
      "cell_type": "code",
      "source": [
        "from sklearn.datasets import fetch_openml\n",
        "\n",
        "mnist = fetch_openml('mnist_784', as_frame=False, parser=\"auto\")\n",
        "X_train, y_train = mnist.data[:60_000], mnist.target[:60_000]\n",
        "X_test, y_test = mnist.data[60_000:], mnist.target[60_000:]\n",
        "\n",
        "pca = PCA()\n",
        "pca.fit(X_train)\n",
        "cumsum = np.cumsum(pca.explained_variance_ratio_)\n",
        "d = np.argmax(cumsum >= 0.95) + 1  # d equals 154"
      ],
      "metadata": {
        "id": "1SxXyBq-sKVQ"
      },
      "execution_count": null,
      "outputs": []
    },
    {
      "cell_type": "markdown",
      "source": [
        "this automatically dose the elbow method"
      ],
      "metadata": {
        "id": "9G_vrM8JtBHW"
      }
    },
    {
      "cell_type": "markdown",
      "source": [
        "this means you reduce the data to 154 dimensions while preserving 95% of the variance"
      ],
      "metadata": {
        "id": "palAg8RJsZaY"
      }
    },
    {
      "cell_type": "code",
      "source": [
        "pca = PCA(n_components=0.95)\n",
        "X_reduced = pca.fit_transform(X_train)"
      ],
      "metadata": {
        "id": "WPsr7Vy9sjTL"
      },
      "execution_count": null,
      "outputs": []
    },
    {
      "cell_type": "code",
      "source": [
        "pca.explained_variance_ratio_.sum()  # extra code"
      ],
      "metadata": {
        "id": "q34MtYKTsuw2"
      },
      "execution_count": null,
      "outputs": []
    },
    {
      "cell_type": "code",
      "source": [
        "# extra code – this cell generates and saves Figure 8–8\n",
        "\n",
        "plt.figure(figsize=(6, 4))\n",
        "plt.plot(cumsum, linewidth=3)\n",
        "plt.axis([0, 400, 0, 1])\n",
        "plt.xlabel(\"Dimensions\")\n",
        "plt.ylabel(\"Explained Variance\")\n",
        "plt.plot([d, d], [0, 0.95], \"k:\")\n",
        "plt.plot([0, d], [0.95, 0.95], \"k:\")\n",
        "plt.plot(d, 0.95, \"ko\")\n",
        "plt.annotate(\"Elbow\", xy=(65, 0.85), xytext=(70, 0.7),\n",
        "             arrowprops=dict(arrowstyle=\"->\"))\n",
        "plt.grid(True)\n",
        "plt.show()"
      ],
      "metadata": {
        "id": "hVZEw162sxna"
      },
      "execution_count": null,
      "outputs": []
    },
    {
      "cell_type": "code",
      "source": [
        "from sklearn.ensemble import RandomForestClassifier\n",
        "from sklearn.model_selection import RandomizedSearchCV\n",
        "from sklearn.pipeline import make_pipeline\n",
        "\n",
        "clf = make_pipeline(PCA(random_state=42),\n",
        "                    RandomForestClassifier(random_state=42))\n",
        "param_distrib = {\n",
        "    \"pca__n_components\": np.arange(10, 80),\n",
        "    \"randomforestclassifier__n_estimators\": np.arange(50, 500)\n",
        "}\n",
        "rnd_search = RandomizedSearchCV(clf, param_distrib, n_iter=10, cv=3,\n",
        "                                random_state=42)\n",
        "rnd_search.fit(X_train[:1000], y_train[:1000])"
      ],
      "metadata": {
        "id": "7xy41oQ1tLAH"
      },
      "execution_count": null,
      "outputs": []
    },
    {
      "cell_type": "code",
      "source": [
        "print(rnd_search.best_params_)"
      ],
      "metadata": {
        "id": "oSNBVPLut31o"
      },
      "execution_count": null,
      "outputs": []
    },
    {
      "cell_type": "code",
      "source": [
        "from sklearn.linear_model import SGDClassifier\n",
        "from sklearn.model_selection import GridSearchCV\n",
        "\n",
        "clf = make_pipeline(PCA(random_state=42), SGDClassifier())\n",
        "param_grid = {\"pca__n_components\": np.arange(10, 80)}\n",
        "grid_search = GridSearchCV(clf, param_grid, cv=3)\n",
        "grid_search.fit(X_train[:1000], y_train[:1000])"
      ],
      "metadata": {
        "colab": {
          "base_uri": "https://localhost:8080/",
          "height": 339
        },
        "id": "KST2eNjDt84F",
        "outputId": "590bf7bd-26d5-4f7d-d6fe-0a640970acef"
      },
      "execution_count": 25,
      "outputs": [
        {
          "output_type": "error",
          "ename": "KeyboardInterrupt",
          "evalue": "",
          "traceback": [
            "\u001b[0;31m---------------------------------------------------------------------------\u001b[0m",
            "\u001b[0;31mKeyboardInterrupt\u001b[0m                         Traceback (most recent call last)",
            "\u001b[0;32m/tmp/ipython-input-25-4173675919.py\u001b[0m in \u001b[0;36m<cell line: 0>\u001b[0;34m()\u001b[0m\n\u001b[1;32m      5\u001b[0m \u001b[0mparam_grid\u001b[0m \u001b[0;34m=\u001b[0m \u001b[0;34m{\u001b[0m\u001b[0;34m\"pca__n_components\"\u001b[0m\u001b[0;34m:\u001b[0m \u001b[0mnp\u001b[0m\u001b[0;34m.\u001b[0m\u001b[0marange\u001b[0m\u001b[0;34m(\u001b[0m\u001b[0;36m10\u001b[0m\u001b[0;34m,\u001b[0m \u001b[0;36m80\u001b[0m\u001b[0;34m)\u001b[0m\u001b[0;34m}\u001b[0m\u001b[0;34m\u001b[0m\u001b[0;34m\u001b[0m\u001b[0m\n\u001b[1;32m      6\u001b[0m \u001b[0mgrid_search\u001b[0m \u001b[0;34m=\u001b[0m \u001b[0mGridSearchCV\u001b[0m\u001b[0;34m(\u001b[0m\u001b[0mclf\u001b[0m\u001b[0;34m,\u001b[0m \u001b[0mparam_grid\u001b[0m\u001b[0;34m,\u001b[0m \u001b[0mcv\u001b[0m\u001b[0;34m=\u001b[0m\u001b[0;36m3\u001b[0m\u001b[0;34m)\u001b[0m\u001b[0;34m\u001b[0m\u001b[0;34m\u001b[0m\u001b[0m\n\u001b[0;32m----> 7\u001b[0;31m \u001b[0mgrid_search\u001b[0m\u001b[0;34m.\u001b[0m\u001b[0mfit\u001b[0m\u001b[0;34m(\u001b[0m\u001b[0mX_train\u001b[0m\u001b[0;34m[\u001b[0m\u001b[0;34m:\u001b[0m\u001b[0;36m1000\u001b[0m\u001b[0;34m]\u001b[0m\u001b[0;34m,\u001b[0m \u001b[0my_train\u001b[0m\u001b[0;34m[\u001b[0m\u001b[0;34m:\u001b[0m\u001b[0;36m1000\u001b[0m\u001b[0;34m]\u001b[0m\u001b[0;34m)\u001b[0m\u001b[0;34m\u001b[0m\u001b[0;34m\u001b[0m\u001b[0m\n\u001b[0m",
            "\u001b[0;32m/usr/local/lib/python3.11/dist-packages/sklearn/base.py\u001b[0m in \u001b[0;36mwrapper\u001b[0;34m(estimator, *args, **kwargs)\u001b[0m\n\u001b[1;32m   1387\u001b[0m                 )\n\u001b[1;32m   1388\u001b[0m             ):\n\u001b[0;32m-> 1389\u001b[0;31m                 \u001b[0;32mreturn\u001b[0m \u001b[0mfit_method\u001b[0m\u001b[0;34m(\u001b[0m\u001b[0mestimator\u001b[0m\u001b[0;34m,\u001b[0m \u001b[0;34m*\u001b[0m\u001b[0margs\u001b[0m\u001b[0;34m,\u001b[0m \u001b[0;34m**\u001b[0m\u001b[0mkwargs\u001b[0m\u001b[0;34m)\u001b[0m\u001b[0;34m\u001b[0m\u001b[0;34m\u001b[0m\u001b[0m\n\u001b[0m\u001b[1;32m   1390\u001b[0m \u001b[0;34m\u001b[0m\u001b[0m\n\u001b[1;32m   1391\u001b[0m         \u001b[0;32mreturn\u001b[0m \u001b[0mwrapper\u001b[0m\u001b[0;34m\u001b[0m\u001b[0;34m\u001b[0m\u001b[0m\n",
            "\u001b[0;32m/usr/local/lib/python3.11/dist-packages/sklearn/model_selection/_search.py\u001b[0m in \u001b[0;36mfit\u001b[0;34m(self, X, y, **params)\u001b[0m\n\u001b[1;32m   1060\u001b[0m             \u001b[0mrefit_start_time\u001b[0m \u001b[0;34m=\u001b[0m \u001b[0mtime\u001b[0m\u001b[0;34m.\u001b[0m\u001b[0mtime\u001b[0m\u001b[0;34m(\u001b[0m\u001b[0;34m)\u001b[0m\u001b[0;34m\u001b[0m\u001b[0;34m\u001b[0m\u001b[0m\n\u001b[1;32m   1061\u001b[0m             \u001b[0;32mif\u001b[0m \u001b[0my\u001b[0m \u001b[0;32mis\u001b[0m \u001b[0;32mnot\u001b[0m \u001b[0;32mNone\u001b[0m\u001b[0;34m:\u001b[0m\u001b[0;34m\u001b[0m\u001b[0;34m\u001b[0m\u001b[0m\n\u001b[0;32m-> 1062\u001b[0;31m                 \u001b[0mself\u001b[0m\u001b[0;34m.\u001b[0m\u001b[0mbest_estimator_\u001b[0m\u001b[0;34m.\u001b[0m\u001b[0mfit\u001b[0m\u001b[0;34m(\u001b[0m\u001b[0mX\u001b[0m\u001b[0;34m,\u001b[0m \u001b[0my\u001b[0m\u001b[0;34m,\u001b[0m \u001b[0;34m**\u001b[0m\u001b[0mrouted_params\u001b[0m\u001b[0;34m.\u001b[0m\u001b[0mestimator\u001b[0m\u001b[0;34m.\u001b[0m\u001b[0mfit\u001b[0m\u001b[0;34m)\u001b[0m\u001b[0;34m\u001b[0m\u001b[0;34m\u001b[0m\u001b[0m\n\u001b[0m\u001b[1;32m   1063\u001b[0m             \u001b[0;32melse\u001b[0m\u001b[0;34m:\u001b[0m\u001b[0;34m\u001b[0m\u001b[0;34m\u001b[0m\u001b[0m\n\u001b[1;32m   1064\u001b[0m                 \u001b[0mself\u001b[0m\u001b[0;34m.\u001b[0m\u001b[0mbest_estimator_\u001b[0m\u001b[0;34m.\u001b[0m\u001b[0mfit\u001b[0m\u001b[0;34m(\u001b[0m\u001b[0mX\u001b[0m\u001b[0;34m,\u001b[0m \u001b[0;34m**\u001b[0m\u001b[0mrouted_params\u001b[0m\u001b[0;34m.\u001b[0m\u001b[0mestimator\u001b[0m\u001b[0;34m.\u001b[0m\u001b[0mfit\u001b[0m\u001b[0;34m)\u001b[0m\u001b[0;34m\u001b[0m\u001b[0;34m\u001b[0m\u001b[0m\n",
            "\u001b[0;32m/usr/local/lib/python3.11/dist-packages/sklearn/base.py\u001b[0m in \u001b[0;36mwrapper\u001b[0;34m(estimator, *args, **kwargs)\u001b[0m\n\u001b[1;32m   1387\u001b[0m                 )\n\u001b[1;32m   1388\u001b[0m             ):\n\u001b[0;32m-> 1389\u001b[0;31m                 \u001b[0;32mreturn\u001b[0m \u001b[0mfit_method\u001b[0m\u001b[0;34m(\u001b[0m\u001b[0mestimator\u001b[0m\u001b[0;34m,\u001b[0m \u001b[0;34m*\u001b[0m\u001b[0margs\u001b[0m\u001b[0;34m,\u001b[0m \u001b[0;34m**\u001b[0m\u001b[0mkwargs\u001b[0m\u001b[0;34m)\u001b[0m\u001b[0;34m\u001b[0m\u001b[0;34m\u001b[0m\u001b[0m\n\u001b[0m\u001b[1;32m   1390\u001b[0m \u001b[0;34m\u001b[0m\u001b[0m\n\u001b[1;32m   1391\u001b[0m         \u001b[0;32mreturn\u001b[0m \u001b[0mwrapper\u001b[0m\u001b[0;34m\u001b[0m\u001b[0;34m\u001b[0m\u001b[0m\n",
            "\u001b[0;32m/usr/local/lib/python3.11/dist-packages/sklearn/pipeline.py\u001b[0m in \u001b[0;36mfit\u001b[0;34m(self, X, y, **params)\u001b[0m\n\u001b[1;32m    660\u001b[0m                     \u001b[0mall_params\u001b[0m\u001b[0;34m=\u001b[0m\u001b[0mparams\u001b[0m\u001b[0;34m,\u001b[0m\u001b[0;34m\u001b[0m\u001b[0;34m\u001b[0m\u001b[0m\n\u001b[1;32m    661\u001b[0m                 )\n\u001b[0;32m--> 662\u001b[0;31m                 \u001b[0mself\u001b[0m\u001b[0;34m.\u001b[0m\u001b[0m_final_estimator\u001b[0m\u001b[0;34m.\u001b[0m\u001b[0mfit\u001b[0m\u001b[0;34m(\u001b[0m\u001b[0mXt\u001b[0m\u001b[0;34m,\u001b[0m \u001b[0my\u001b[0m\u001b[0;34m,\u001b[0m \u001b[0;34m**\u001b[0m\u001b[0mlast_step_params\u001b[0m\u001b[0;34m[\u001b[0m\u001b[0;34m\"fit\"\u001b[0m\u001b[0;34m]\u001b[0m\u001b[0;34m)\u001b[0m\u001b[0;34m\u001b[0m\u001b[0;34m\u001b[0m\u001b[0m\n\u001b[0m\u001b[1;32m    663\u001b[0m \u001b[0;34m\u001b[0m\u001b[0m\n\u001b[1;32m    664\u001b[0m         \u001b[0;32mreturn\u001b[0m \u001b[0mself\u001b[0m\u001b[0;34m\u001b[0m\u001b[0;34m\u001b[0m\u001b[0m\n",
            "\u001b[0;32m/usr/local/lib/python3.11/dist-packages/sklearn/base.py\u001b[0m in \u001b[0;36mwrapper\u001b[0;34m(estimator, *args, **kwargs)\u001b[0m\n\u001b[1;32m   1387\u001b[0m                 )\n\u001b[1;32m   1388\u001b[0m             ):\n\u001b[0;32m-> 1389\u001b[0;31m                 \u001b[0;32mreturn\u001b[0m \u001b[0mfit_method\u001b[0m\u001b[0;34m(\u001b[0m\u001b[0mestimator\u001b[0m\u001b[0;34m,\u001b[0m \u001b[0;34m*\u001b[0m\u001b[0margs\u001b[0m\u001b[0;34m,\u001b[0m \u001b[0;34m**\u001b[0m\u001b[0mkwargs\u001b[0m\u001b[0;34m)\u001b[0m\u001b[0;34m\u001b[0m\u001b[0;34m\u001b[0m\u001b[0m\n\u001b[0m\u001b[1;32m   1390\u001b[0m \u001b[0;34m\u001b[0m\u001b[0m\n\u001b[1;32m   1391\u001b[0m         \u001b[0;32mreturn\u001b[0m \u001b[0mwrapper\u001b[0m\u001b[0;34m\u001b[0m\u001b[0;34m\u001b[0m\u001b[0m\n",
            "\u001b[0;32m/usr/local/lib/python3.11/dist-packages/sklearn/linear_model/_stochastic_gradient.py\u001b[0m in \u001b[0;36mfit\u001b[0;34m(self, X, y, coef_init, intercept_init, sample_weight)\u001b[0m\n\u001b[1;32m    930\u001b[0m         \u001b[0mself\u001b[0m\u001b[0;34m.\u001b[0m\u001b[0m_more_validate_params\u001b[0m\u001b[0;34m(\u001b[0m\u001b[0;34m)\u001b[0m\u001b[0;34m\u001b[0m\u001b[0;34m\u001b[0m\u001b[0m\n\u001b[1;32m    931\u001b[0m \u001b[0;34m\u001b[0m\u001b[0m\n\u001b[0;32m--> 932\u001b[0;31m         return self._fit(\n\u001b[0m\u001b[1;32m    933\u001b[0m             \u001b[0mX\u001b[0m\u001b[0;34m,\u001b[0m\u001b[0;34m\u001b[0m\u001b[0;34m\u001b[0m\u001b[0m\n\u001b[1;32m    934\u001b[0m             \u001b[0my\u001b[0m\u001b[0;34m,\u001b[0m\u001b[0;34m\u001b[0m\u001b[0;34m\u001b[0m\u001b[0m\n",
            "\u001b[0;32m/usr/local/lib/python3.11/dist-packages/sklearn/linear_model/_stochastic_gradient.py\u001b[0m in \u001b[0;36m_fit\u001b[0;34m(self, X, y, alpha, C, loss, learning_rate, coef_init, intercept_init, sample_weight)\u001b[0m\n\u001b[1;32m    717\u001b[0m         \u001b[0mself\u001b[0m\u001b[0;34m.\u001b[0m\u001b[0mt_\u001b[0m \u001b[0;34m=\u001b[0m \u001b[0;36m1.0\u001b[0m\u001b[0;34m\u001b[0m\u001b[0;34m\u001b[0m\u001b[0m\n\u001b[1;32m    718\u001b[0m \u001b[0;34m\u001b[0m\u001b[0m\n\u001b[0;32m--> 719\u001b[0;31m         self._partial_fit(\n\u001b[0m\u001b[1;32m    720\u001b[0m             \u001b[0mX\u001b[0m\u001b[0;34m,\u001b[0m\u001b[0;34m\u001b[0m\u001b[0;34m\u001b[0m\u001b[0m\n\u001b[1;32m    721\u001b[0m             \u001b[0my\u001b[0m\u001b[0;34m,\u001b[0m\u001b[0;34m\u001b[0m\u001b[0;34m\u001b[0m\u001b[0m\n",
            "\u001b[0;32m/usr/local/lib/python3.11/dist-packages/sklearn/linear_model/_stochastic_gradient.py\u001b[0m in \u001b[0;36m_partial_fit\u001b[0;34m(self, X, y, alpha, C, loss, learning_rate, max_iter, classes, sample_weight, coef_init, intercept_init)\u001b[0m\n\u001b[1;32m    641\u001b[0m         \u001b[0;31m# delegate to concrete training procedure\u001b[0m\u001b[0;34m\u001b[0m\u001b[0;34m\u001b[0m\u001b[0m\n\u001b[1;32m    642\u001b[0m         \u001b[0;32mif\u001b[0m \u001b[0mn_classes\u001b[0m \u001b[0;34m>\u001b[0m \u001b[0;36m2\u001b[0m\u001b[0;34m:\u001b[0m\u001b[0;34m\u001b[0m\u001b[0;34m\u001b[0m\u001b[0m\n\u001b[0;32m--> 643\u001b[0;31m             self._fit_multiclass(\n\u001b[0m\u001b[1;32m    644\u001b[0m                 \u001b[0mX\u001b[0m\u001b[0;34m,\u001b[0m\u001b[0;34m\u001b[0m\u001b[0;34m\u001b[0m\u001b[0m\n\u001b[1;32m    645\u001b[0m                 \u001b[0my\u001b[0m\u001b[0;34m,\u001b[0m\u001b[0;34m\u001b[0m\u001b[0;34m\u001b[0m\u001b[0m\n",
            "\u001b[0;32m/usr/local/lib/python3.11/dist-packages/sklearn/linear_model/_stochastic_gradient.py\u001b[0m in \u001b[0;36m_fit_multiclass\u001b[0;34m(self, X, y, alpha, C, learning_rate, sample_weight, max_iter)\u001b[0m\n\u001b[1;32m    796\u001b[0m         \u001b[0mrandom_state\u001b[0m \u001b[0;34m=\u001b[0m \u001b[0mcheck_random_state\u001b[0m\u001b[0;34m(\u001b[0m\u001b[0mself\u001b[0m\u001b[0;34m.\u001b[0m\u001b[0mrandom_state\u001b[0m\u001b[0;34m)\u001b[0m\u001b[0;34m\u001b[0m\u001b[0;34m\u001b[0m\u001b[0m\n\u001b[1;32m    797\u001b[0m         \u001b[0mseeds\u001b[0m \u001b[0;34m=\u001b[0m \u001b[0mrandom_state\u001b[0m\u001b[0;34m.\u001b[0m\u001b[0mrandint\u001b[0m\u001b[0;34m(\u001b[0m\u001b[0mMAX_INT\u001b[0m\u001b[0;34m,\u001b[0m \u001b[0msize\u001b[0m\u001b[0;34m=\u001b[0m\u001b[0mlen\u001b[0m\u001b[0;34m(\u001b[0m\u001b[0mself\u001b[0m\u001b[0;34m.\u001b[0m\u001b[0mclasses_\u001b[0m\u001b[0;34m)\u001b[0m\u001b[0;34m)\u001b[0m\u001b[0;34m\u001b[0m\u001b[0;34m\u001b[0m\u001b[0m\n\u001b[0;32m--> 798\u001b[0;31m         result = Parallel(\n\u001b[0m\u001b[1;32m    799\u001b[0m             \u001b[0mn_jobs\u001b[0m\u001b[0;34m=\u001b[0m\u001b[0mself\u001b[0m\u001b[0;34m.\u001b[0m\u001b[0mn_jobs\u001b[0m\u001b[0;34m,\u001b[0m \u001b[0mverbose\u001b[0m\u001b[0;34m=\u001b[0m\u001b[0mself\u001b[0m\u001b[0;34m.\u001b[0m\u001b[0mverbose\u001b[0m\u001b[0;34m,\u001b[0m \u001b[0mrequire\u001b[0m\u001b[0;34m=\u001b[0m\u001b[0;34m\"sharedmem\"\u001b[0m\u001b[0;34m\u001b[0m\u001b[0;34m\u001b[0m\u001b[0m\n\u001b[1;32m    800\u001b[0m         \u001b[0;34m)\u001b[0m\u001b[0;34m(\u001b[0m\u001b[0;34m\u001b[0m\u001b[0;34m\u001b[0m\u001b[0m\n",
            "\u001b[0;32m/usr/local/lib/python3.11/dist-packages/sklearn/utils/parallel.py\u001b[0m in \u001b[0;36m__call__\u001b[0;34m(self, iterable)\u001b[0m\n\u001b[1;32m     75\u001b[0m             \u001b[0;32mfor\u001b[0m \u001b[0mdelayed_func\u001b[0m\u001b[0;34m,\u001b[0m \u001b[0margs\u001b[0m\u001b[0;34m,\u001b[0m \u001b[0mkwargs\u001b[0m \u001b[0;32min\u001b[0m \u001b[0miterable\u001b[0m\u001b[0;34m\u001b[0m\u001b[0;34m\u001b[0m\u001b[0m\n\u001b[1;32m     76\u001b[0m         )\n\u001b[0;32m---> 77\u001b[0;31m         \u001b[0;32mreturn\u001b[0m \u001b[0msuper\u001b[0m\u001b[0;34m(\u001b[0m\u001b[0;34m)\u001b[0m\u001b[0;34m.\u001b[0m\u001b[0m__call__\u001b[0m\u001b[0;34m(\u001b[0m\u001b[0miterable_with_config\u001b[0m\u001b[0;34m)\u001b[0m\u001b[0;34m\u001b[0m\u001b[0;34m\u001b[0m\u001b[0m\n\u001b[0m\u001b[1;32m     78\u001b[0m \u001b[0;34m\u001b[0m\u001b[0m\n\u001b[1;32m     79\u001b[0m \u001b[0;34m\u001b[0m\u001b[0m\n",
            "\u001b[0;32m/usr/local/lib/python3.11/dist-packages/joblib/parallel.py\u001b[0m in \u001b[0;36m__call__\u001b[0;34m(self, iterable)\u001b[0m\n\u001b[1;32m   1984\u001b[0m             \u001b[0moutput\u001b[0m \u001b[0;34m=\u001b[0m \u001b[0mself\u001b[0m\u001b[0;34m.\u001b[0m\u001b[0m_get_sequential_output\u001b[0m\u001b[0;34m(\u001b[0m\u001b[0miterable\u001b[0m\u001b[0;34m)\u001b[0m\u001b[0;34m\u001b[0m\u001b[0;34m\u001b[0m\u001b[0m\n\u001b[1;32m   1985\u001b[0m             \u001b[0mnext\u001b[0m\u001b[0;34m(\u001b[0m\u001b[0moutput\u001b[0m\u001b[0;34m)\u001b[0m\u001b[0;34m\u001b[0m\u001b[0;34m\u001b[0m\u001b[0m\n\u001b[0;32m-> 1986\u001b[0;31m             \u001b[0;32mreturn\u001b[0m \u001b[0moutput\u001b[0m \u001b[0;32mif\u001b[0m \u001b[0mself\u001b[0m\u001b[0;34m.\u001b[0m\u001b[0mreturn_generator\u001b[0m \u001b[0;32melse\u001b[0m \u001b[0mlist\u001b[0m\u001b[0;34m(\u001b[0m\u001b[0moutput\u001b[0m\u001b[0;34m)\u001b[0m\u001b[0;34m\u001b[0m\u001b[0;34m\u001b[0m\u001b[0m\n\u001b[0m\u001b[1;32m   1987\u001b[0m \u001b[0;34m\u001b[0m\u001b[0m\n\u001b[1;32m   1988\u001b[0m         \u001b[0;31m# Let's create an ID that uniquely identifies the current call. If the\u001b[0m\u001b[0;34m\u001b[0m\u001b[0;34m\u001b[0m\u001b[0m\n",
            "\u001b[0;32m/usr/local/lib/python3.11/dist-packages/joblib/parallel.py\u001b[0m in \u001b[0;36m_get_sequential_output\u001b[0;34m(self, iterable)\u001b[0m\n\u001b[1;32m   1912\u001b[0m                 \u001b[0mself\u001b[0m\u001b[0;34m.\u001b[0m\u001b[0mn_dispatched_batches\u001b[0m \u001b[0;34m+=\u001b[0m \u001b[0;36m1\u001b[0m\u001b[0;34m\u001b[0m\u001b[0;34m\u001b[0m\u001b[0m\n\u001b[1;32m   1913\u001b[0m                 \u001b[0mself\u001b[0m\u001b[0;34m.\u001b[0m\u001b[0mn_dispatched_tasks\u001b[0m \u001b[0;34m+=\u001b[0m \u001b[0;36m1\u001b[0m\u001b[0;34m\u001b[0m\u001b[0;34m\u001b[0m\u001b[0m\n\u001b[0;32m-> 1914\u001b[0;31m                 \u001b[0mres\u001b[0m \u001b[0;34m=\u001b[0m \u001b[0mfunc\u001b[0m\u001b[0;34m(\u001b[0m\u001b[0;34m*\u001b[0m\u001b[0margs\u001b[0m\u001b[0;34m,\u001b[0m \u001b[0;34m**\u001b[0m\u001b[0mkwargs\u001b[0m\u001b[0;34m)\u001b[0m\u001b[0;34m\u001b[0m\u001b[0;34m\u001b[0m\u001b[0m\n\u001b[0m\u001b[1;32m   1915\u001b[0m                 \u001b[0mself\u001b[0m\u001b[0;34m.\u001b[0m\u001b[0mn_completed_tasks\u001b[0m \u001b[0;34m+=\u001b[0m \u001b[0;36m1\u001b[0m\u001b[0;34m\u001b[0m\u001b[0;34m\u001b[0m\u001b[0m\n\u001b[1;32m   1916\u001b[0m                 \u001b[0mself\u001b[0m\u001b[0;34m.\u001b[0m\u001b[0mprint_progress\u001b[0m\u001b[0;34m(\u001b[0m\u001b[0;34m)\u001b[0m\u001b[0;34m\u001b[0m\u001b[0;34m\u001b[0m\u001b[0m\n",
            "\u001b[0;32m/usr/local/lib/python3.11/dist-packages/sklearn/utils/parallel.py\u001b[0m in \u001b[0;36m__call__\u001b[0;34m(self, *args, **kwargs)\u001b[0m\n\u001b[1;32m    137\u001b[0m             \u001b[0mconfig\u001b[0m \u001b[0;34m=\u001b[0m \u001b[0;34m{\u001b[0m\u001b[0;34m}\u001b[0m\u001b[0;34m\u001b[0m\u001b[0;34m\u001b[0m\u001b[0m\n\u001b[1;32m    138\u001b[0m         \u001b[0;32mwith\u001b[0m \u001b[0mconfig_context\u001b[0m\u001b[0;34m(\u001b[0m\u001b[0;34m**\u001b[0m\u001b[0mconfig\u001b[0m\u001b[0;34m)\u001b[0m\u001b[0;34m:\u001b[0m\u001b[0;34m\u001b[0m\u001b[0;34m\u001b[0m\u001b[0m\n\u001b[0;32m--> 139\u001b[0;31m             \u001b[0;32mreturn\u001b[0m \u001b[0mself\u001b[0m\u001b[0;34m.\u001b[0m\u001b[0mfunction\u001b[0m\u001b[0;34m(\u001b[0m\u001b[0;34m*\u001b[0m\u001b[0margs\u001b[0m\u001b[0;34m,\u001b[0m \u001b[0;34m**\u001b[0m\u001b[0mkwargs\u001b[0m\u001b[0;34m)\u001b[0m\u001b[0;34m\u001b[0m\u001b[0;34m\u001b[0m\u001b[0m\n\u001b[0m\u001b[1;32m    140\u001b[0m \u001b[0;34m\u001b[0m\u001b[0m\n\u001b[1;32m    141\u001b[0m \u001b[0;34m\u001b[0m\u001b[0m\n",
            "\u001b[0;32m/usr/local/lib/python3.11/dist-packages/sklearn/linear_model/_stochastic_gradient.py\u001b[0m in \u001b[0;36mfit_binary\u001b[0;34m(est, i, X, y, alpha, C, learning_rate, max_iter, pos_weight, neg_weight, sample_weight, validation_mask, random_state)\u001b[0m\n\u001b[1;32m    454\u001b[0m \u001b[0;34m\u001b[0m\u001b[0m\n\u001b[1;32m    455\u001b[0m     \u001b[0m_plain_sgd\u001b[0m \u001b[0;34m=\u001b[0m \u001b[0m_get_plain_sgd_function\u001b[0m\u001b[0;34m(\u001b[0m\u001b[0minput_dtype\u001b[0m\u001b[0;34m=\u001b[0m\u001b[0mcoef\u001b[0m\u001b[0;34m.\u001b[0m\u001b[0mdtype\u001b[0m\u001b[0;34m)\u001b[0m\u001b[0;34m\u001b[0m\u001b[0;34m\u001b[0m\u001b[0m\n\u001b[0;32m--> 456\u001b[0;31m     coef, intercept, average_coef, average_intercept, n_iter_ = _plain_sgd(\n\u001b[0m\u001b[1;32m    457\u001b[0m         \u001b[0mcoef\u001b[0m\u001b[0;34m,\u001b[0m\u001b[0;34m\u001b[0m\u001b[0;34m\u001b[0m\u001b[0m\n\u001b[1;32m    458\u001b[0m         \u001b[0mintercept\u001b[0m\u001b[0;34m,\u001b[0m\u001b[0;34m\u001b[0m\u001b[0;34m\u001b[0m\u001b[0m\n",
            "\u001b[0;31mKeyboardInterrupt\u001b[0m: "
          ]
        }
      ]
    },
    {
      "cell_type": "code",
      "source": [
        "grid_search.best_params_"
      ],
      "metadata": {
        "id": "InF3NhCEODll"
      },
      "execution_count": null,
      "outputs": []
    },
    {
      "cell_type": "markdown",
      "source": [
        "# YOU CAN also compress and decompress X"
      ],
      "metadata": {
        "id": "dtW_RZzcOJTx"
      }
    },
    {
      "cell_type": "code",
      "source": [
        "pca = PCA(0.95)\n",
        "X_reduced = pca.fit_transform(X_train, y_train)"
      ],
      "metadata": {
        "id": "oM71l8PXObDd"
      },
      "execution_count": null,
      "outputs": []
    },
    {
      "cell_type": "code",
      "source": [
        "X_recovered = pca.inverse_transform(X_reduced)"
      ],
      "metadata": {
        "id": "emCKTLCBOiH4"
      },
      "execution_count": null,
      "outputs": []
    },
    {
      "cell_type": "markdown",
      "source": [
        "# The randomness is only used to speed up the approximation\n",
        "# by projecting the data into a random subspace before doing PCA-like decomposition."
      ],
      "metadata": {
        "id": "om5aBXU2f7Ho"
      }
    },
    {
      "cell_type": "markdown",
      "source": [
        "# Incremental PCA is a technique used to do a pca to large dataset and It processes the data in mini-batches, updating the principal components gradually, chunk by chunk.\n",
        "\n"
      ],
      "metadata": {
        "id": "R__pdf09gvwQ"
      }
    },
    {
      "cell_type": "code",
      "source": [
        "from sklearn.decomposition import IncrementalPCA\n",
        "\n",
        "n_batches = 100\n",
        "inc_pca = IncrementalPCA(n_components=154)\n",
        "for X_batch in np.array_split(X_train, n_batches):\n",
        "    inc_pca.partial_fit(X_batch)\n",
        "\n",
        "X_reduced = inc_pca.transform(X_train)"
      ],
      "metadata": {
        "id": "DlvIEjApf4SJ"
      },
      "execution_count": null,
      "outputs": []
    },
    {
      "cell_type": "markdown",
      "source": [
        "Incremental PCA is a memory-efficient version of PCA that processes data in mini-batches, ideal for large or streaming datasets.  \n",
        "It incrementally updates the principal components using partial SVD, maintaining a stable low-rank approximation.\n"
      ],
      "metadata": {
        "id": "q-MJp-OniuSJ"
      }
    },
    {
      "cell_type": "markdown",
      "source": [
        "mmepap"
      ],
      "metadata": {
        "id": "K4gt8VVhj0Fn"
      }
    },
    {
      "cell_type": "markdown",
      "source": [
        "Let's create the `memmap` instance, copy the MNIST training set into it, and call `flush()` which ensures that any data still in cache is saved to disk. This would typically be done by a first program:"
      ],
      "metadata": {
        "id": "EWp_pdW0jxBs"
      }
    },
    {
      "cell_type": "markdown",
      "source": [
        "memmap gives you the performance of low-level file access with the power and simplicity of NumPy.\n",
        "\n",
        "It shines when:\n",
        "\n",
        "Your data is too large to fit in RAM\n",
        "\n",
        "You want to use NumPy tools + scikit-learn without rewriting I/O logic\n",
        "\n",
        "You want batch-wise learning or processing"
      ],
      "metadata": {
        "id": "ayUvbvewlCB5"
      }
    },
    {
      "cell_type": "code",
      "source": [
        "filename = \"my_mnist.mmap\"\n",
        "X_mmap = np.memmap(filename, dtype='float32', mode='write', shape=X_train.shape)\n",
        "X_mmap[:] = X_train  # could be a loop instead, saving the data chunk by chunk\n",
        "X_mmap.flush()"
      ],
      "metadata": {
        "id": "VFxWlPYnlLPa"
      },
      "execution_count": null,
      "outputs": []
    },
    {
      "cell_type": "markdown",
      "source": [
        "# Next, another program would load the data and use it for training:"
      ],
      "metadata": {
        "id": "CVX_DJ0GlY5v"
      }
    },
    {
      "cell_type": "markdown",
      "source": [
        "# Random_Projection"
      ],
      "metadata": {
        "id": "_0KU7QfMlzMe"
      }
    },
    {
      "cell_type": "markdown",
      "source": [
        "# **Warning**: this sections will use close to 2.5 GB of RAM. If your computer\n",
        "#runs out of memory, just reduce _m_ and _n_:"
      ],
      "metadata": {
        "id": "s2JUmIz6l8Zz"
      }
    },
    {
      "cell_type": "code",
      "source": [
        "from sklearn.random_projection import johnson_lindenstrauss_min_dim\n",
        "\n",
        "m, ε = 5_000, 0.1\n",
        "d = johnson_lindenstrauss_min_dim(m, eps=ε)\n",
        "d"
      ],
      "metadata": {
        "id": "cK1QS61Ulm3b"
      },
      "execution_count": null,
      "outputs": []
    },
    {
      "cell_type": "code",
      "source": [
        "n = 20_000\n",
        "np.random.seed(42)\n",
        "P = np.random.randn(d, n) / np.sqrt(d)  # std dev = square root of variance\n",
        "\n",
        "X = np.random.randn(m, n)  # generate a fake dataset\n",
        "X_reduced = X @ P.T"
      ],
      "metadata": {
        "id": "vHN_uMHjJYo7"
      },
      "execution_count": null,
      "outputs": []
    },
    {
      "cell_type": "code",
      "source": [
        "from sklearn.random_projection import GaussianRandomProjection\n",
        "\n",
        "gaussian_rnd_proj = GaussianRandomProjection(eps=ε, random_state=42)\n",
        "X_reduced = gaussian_rnd_proj.fit_transform(X)  # same result as above"
      ],
      "metadata": {
        "id": "2HcDxL7hJeaR"
      },
      "execution_count": null,
      "outputs": []
    },
    {
      "cell_type": "markdown",
      "source": [
        "Very useful if you want to train a model based on distances  on a lower dimension space while preserving the distance between points lower than epsilon"
      ],
      "metadata": {
        "id": "uWzyTeccIXeY"
      }
    },
    {
      "cell_type": "markdown",
      "source": [
        "The gaussian random projection is important to use with models that learn while updating the weights like SGD or neural nets"
      ],
      "metadata": {
        "id": "OSoAmL1hOiPw"
      }
    },
    {
      "cell_type": "markdown",
      "source": [
        "# Sparse Random Projection reduces dimensionality by projecting data onto randomly generated sparse vectors.  \n",
        "# It preserves distances with high probability without learning from the data, relying on the Johnson–Lindenstrauss Lemma.\n"
      ],
      "metadata": {
        "id": "6PMDJbo4XouO"
      }
    },
    {
      "cell_type": "code",
      "source": [
        "components_pinv = np.linalg.pinv(gaussian_rnd_proj.components_)\n",
        "X_recovered = X_reduced @ components_pinv.T\n",
        "# you can recover X from any PCA algorithm or something similar"
      ],
      "metadata": {
        "id": "MrmO-7EGOg5A"
      },
      "execution_count": null,
      "outputs": []
    },
    {
      "cell_type": "markdown",
      "source": [
        "GaussianRandomProjection fit\n",
        "\n",
        "4.05 s ± 327 ms per loop (mean ± std. dev. of 7 runs, 1 loop each)\n",
        "\n",
        "SparseRandomProjection fit\n",
        "\n",
        "3.85 s ± 647 ms per loop (mean ± std. dev. of 7 runs, 1 loop each)\n",
        "\n",
        "GaussianRandomProjection transform\n",
        "\n",
        "11.1 s ± 507 ms per loop (mean ± std. dev. of 7 runs, 1 loop each)\n",
        "\n",
        "SparseRandomProjection transform\n",
        "\n",
        "5.37 s ± 640 ms per loop (mean ± std. dev. of 7 runs, 1 loop each)"
      ],
      "metadata": {
        "id": "6kerHlgAcwXp"
      }
    },
    {
      "cell_type": "markdown",
      "source": [
        "![image.png](data:image/png;base64,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)"
      ],
      "metadata": {
        "id": "rUZ_KT-GdzPD"
      }
    },
    {
      "cell_type": "markdown",
      "source": [
        "# LLE"
      ],
      "metadata": {
        "id": "5GJGbeUnd_Od"
      }
    },
    {
      "cell_type": "code",
      "source": [],
      "metadata": {
        "id": "ZOIfG9dMcuOY"
      },
      "execution_count": null,
      "outputs": []
    }
  ]
}